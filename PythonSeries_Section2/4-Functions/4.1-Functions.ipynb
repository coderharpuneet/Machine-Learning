{
 "cells": [
  {
   "cell_type": "markdown",
   "id": "4c1f1875",
   "metadata": {},
   "source": [
    "### Functions\n",
    "\n",
    "##### Definition\n",
    "\n",
    "A function is a block of code that performs a specific task. Functions help in organizing "
   ]
  },
  {
   "cell_type": "code",
   "execution_count": null,
   "id": "2c2d7921",
   "metadata": {},
   "outputs": [],
   "source": [
    "## syntax\n",
    "def function_name(parameters):\n",
    "    \"\"\"Docstring\"\"\"\n",
    "    ## function body\n",
    "    return expression\n",
    "    "
   ]
  },
  {
   "cell_type": "code",
   "execution_count": 1,
   "id": "040985ae",
   "metadata": {},
   "outputs": [
    {
     "name": "stdout",
     "output_type": "stream",
     "text": [
      "Even\n"
     ]
    }
   ],
   "source": [
    "## why functions\n",
    "num=24\n",
    "if num%2==0:\n",
    "    print(\"Even\")\n",
    "else:\n",
    "    print(\"Odd\")"
   ]
  },
  {
   "cell_type": "code",
   "execution_count": 2,
   "id": "babb9374",
   "metadata": {},
   "outputs": [],
   "source": [
    "def even_or_odd(num):\n",
    "    \"\"\"\"This function finds whether a number is even or odd\"\"\"\n",
    "    if num%2==0:\n",
    "        print(\"The Number is Even\")\n",
    "    else:\n",
    "        print(\"The Number is Odd\")"
   ]
  },
  {
   "cell_type": "code",
   "execution_count": 3,
   "id": "c1ac931a",
   "metadata": {},
   "outputs": [
    {
     "name": "stdout",
     "output_type": "stream",
     "text": [
      "The Number is Even\n"
     ]
    }
   ],
   "source": [
    "## Call this function\n",
    "even_or_odd(24)"
   ]
  },
  {
   "cell_type": "code",
   "execution_count": 4,
   "id": "94b79ed7",
   "metadata": {},
   "outputs": [
    {
     "name": "stdout",
     "output_type": "stream",
     "text": [
      "The sum is: 30\n"
     ]
    }
   ],
   "source": [
    "## function with multiple parameters\n",
    "def add(a,b):\n",
    "    \"\"\"This function adds two numbers\"\"\"\n",
    "    return a+b\n",
    "\n",
    "result = add(10, 20)\n",
    "print(\"The sum is:\", result)"
   ]
  },
  {
   "cell_type": "code",
   "execution_count": 8,
   "id": "efc81b99",
   "metadata": {},
   "outputs": [
    {
     "name": "stdout",
     "output_type": "stream",
     "text": [
      "Hello, Guest!\n",
      "Hello, Harpuneet!\n"
     ]
    }
   ],
   "source": [
    "## Default parameters\n",
    "\n",
    "def greet(name=\"Guest\"):\n",
    "    print(f\"Hello, {name}!\")\n",
    "\n",
    "greet()\n",
    "greet(\"Harpuneet\")"
   ]
  },
  {
   "cell_type": "code",
   "execution_count": null,
   "id": "f11b19dc",
   "metadata": {},
   "outputs": [],
   "source": [
    "## Variable length Arguments\n",
    "\n",
    "## Positional and keyword arguments\n",
    "\n",
    "##Positional argumnents\n",
    "def print_numbers(*args):\n",
    "    for numbers in args:\n",
    "        print(numbers)"
   ]
  },
  {
   "cell_type": "code",
   "execution_count": 13,
   "id": "687a35da",
   "metadata": {},
   "outputs": [
    {
     "name": "stdout",
     "output_type": "stream",
     "text": [
      "1\n",
      "2\n",
      "3\n",
      "4\n",
      "5\n",
      "Harpuneet\n"
     ]
    }
   ],
   "source": [
    "print_numbers(1, 2, 3, 4, 5,\"Harpuneet\")"
   ]
  },
  {
   "cell_type": "code",
   "execution_count": 14,
   "id": "d42eb94d",
   "metadata": {},
   "outputs": [],
   "source": [
    "## keywords Arguments\n",
    "\n",
    "def print_details(**kwargs):\n",
    "    for key,value in kwargs.items():\n",
    "        print(f\"{key}: {value}\")"
   ]
  },
  {
   "cell_type": "code",
   "execution_count": 15,
   "id": "2750874f",
   "metadata": {},
   "outputs": [
    {
     "name": "stdout",
     "output_type": "stream",
     "text": [
      "name: Harpuneet\n",
      "age: 19\n",
      "city: Mohali\n"
     ]
    }
   ],
   "source": [
    "print_details(name=\"Harpuneet\", age=19, city=\"Mohali\")"
   ]
  },
  {
   "cell_type": "code",
   "execution_count": 16,
   "id": "94263af4",
   "metadata": {},
   "outputs": [],
   "source": [
    "def print_details(*args, **kwargs):\n",
    "    print(\"Positional arguments:\")\n",
    "    for arg in args:\n",
    "        print(arg)\n",
    "    \n",
    "    print(\"\\nKeyword arguments:\")\n",
    "    for key, value in kwargs.items():\n",
    "        print(f\"{key}: {value}\")"
   ]
  },
  {
   "cell_type": "code",
   "execution_count": 17,
   "id": "7550b55e",
   "metadata": {},
   "outputs": [
    {
     "name": "stdout",
     "output_type": "stream",
     "text": [
      "Positional arguments:\n",
      "1\n",
      "2\n",
      "3\n",
      "6\n",
      "\n",
      "Keyword arguments:\n",
      "name: Harpuneet\n",
      "age: 19\n",
      "city: Mohali\n"
     ]
    }
   ],
   "source": [
    "print_details(1,2,3,6,name=\"Harpuneet\", age=19, city=\"Mohali\")"
   ]
  },
  {
   "cell_type": "code",
   "execution_count": 18,
   "id": "32c730ca",
   "metadata": {},
   "outputs": [
    {
     "name": "stdout",
     "output_type": "stream",
     "text": [
      "The product is: 20\n"
     ]
    }
   ],
   "source": [
    "## return Statement\n",
    "def multiply(a, b):\n",
    "    \"\"\"This function multiplies two numbers\"\"\"\n",
    "    return a * b\n",
    "\n",
    "result = multiply(5, 4)\n",
    "print(\"The product is:\", result)"
   ]
  },
  {
   "cell_type": "code",
   "execution_count": null,
   "id": "304fde75",
   "metadata": {},
   "outputs": [],
   "source": []
  }
 ],
 "metadata": {
  "kernelspec": {
   "display_name": "Python 3",
   "language": "python",
   "name": "python3"
  },
  "language_info": {
   "codemirror_mode": {
    "name": "ipython",
    "version": 3
   },
   "file_extension": ".py",
   "mimetype": "text/x-python",
   "name": "python",
   "nbconvert_exporter": "python",
   "pygments_lexer": "ipython3",
   "version": "3.12.0"
  }
 },
 "nbformat": 4,
 "nbformat_minor": 5
}
