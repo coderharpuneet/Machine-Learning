{
 "cells": [
  {
   "cell_type": "markdown",
   "id": "57329aa8",
   "metadata": {},
   "source": [
    "##### Functions Examples\n"
   ]
  },
  {
   "cell_type": "markdown",
   "id": "950b74ec",
   "metadata": {},
   "source": [
    "##### Example 1: Temperature Conversion\n"
   ]
  },
  {
   "cell_type": "code",
   "execution_count": 1,
   "id": "8750eeda",
   "metadata": {},
   "outputs": [
    {
     "name": "stdout",
     "output_type": "stream",
     "text": [
      "212.0\n",
      "100.0\n"
     ]
    }
   ],
   "source": [
    "def convert_temp(temp,unit):\n",
    "    if unit=='C':\n",
    "        return (temp * 9/5) + 32\n",
    "    elif unit=='F':\n",
    "        return (temp - 32) * 5/9\n",
    "    else:\n",
    "        raise ValueError(\"Invalid unit. Use 'C' for Celsius or 'F' for Fahrenheit.\")\n",
    "\n",
    "print(convert_temp(100, 'C'))  # Should print 212.0\n",
    "print(convert_temp(212, 'F'))  # Should print 100.0"
   ]
  },
  {
   "cell_type": "markdown",
   "id": "fcd8bbcc",
   "metadata": {},
   "source": [
    "##### Example 2: Password Strength Checker\n"
   ]
  },
  {
   "cell_type": "code",
   "execution_count": 5,
   "id": "a4e2b8ea",
   "metadata": {},
   "outputs": [
    {
     "name": "stdout",
     "output_type": "stream",
     "text": [
      "True\n",
      "False\n"
     ]
    }
   ],
   "source": [
    "def is_strong_password(password):\n",
    "    if len(password)<8:\n",
    "        return False\n",
    "    if not any(char.isdigit() for char in password):\n",
    "        return False\n",
    "    if not any(char.islower() for char in password):\n",
    "        return False\n",
    "    if not any(char.isupper() for char in password):\n",
    "        return False\n",
    "    if not any(char in '!@#$%^&*()-_=+[]{}|;:,.<>?/' for char in password):\n",
    "        return False\n",
    "    return True\n",
    "\n",
    "\n",
    "print(is_strong_password(\"Password123!\"))  # Should print True\n",
    "print(is_strong_password(\"weakpass\"))        # Should print False"
   ]
  },
  {
   "cell_type": "markdown",
   "id": "c7792a91",
   "metadata": {},
   "source": [
    "##### Example 3: Calculate the total cost of items in a Shopping Cart\n"
   ]
  },
  {
   "cell_type": "code",
   "execution_count": 8,
   "id": "64e7ddbc",
   "metadata": {},
   "outputs": [
    {
     "name": "stdout",
     "output_type": "stream",
     "text": [
      "6.2\n"
     ]
    }
   ],
   "source": [
    "def calculate_total_cost(cart):\n",
    "    total_cost = 0\n",
    "    for item in cart:\n",
    "        total_cost += item['price'] * item['quantity']\n",
    "    return total_cost\n",
    "    \n",
    "\n",
    "cart=[\n",
    "    {\"item\": \"apple\", \"price\": 0.5, \"quantity\": 4},\n",
    "    {\"item\": \"banana\", \"price\": 0.3, \"quantity\": 6},\n",
    "    {\"item\": \"orange\", \"price\": 0.8, \"quantity\": 3}\n",
    "]\n",
    "\n",
    "\n",
    "print(calculate_total_cost(cart))  # Should print 6.2\n"
   ]
  },
  {
   "cell_type": "markdown",
   "id": "5cb17ce2",
   "metadata": {},
   "source": [
    "##### Example 4: Checking if a string is Palindrome\n"
   ]
  },
  {
   "cell_type": "code",
   "execution_count": 10,
   "id": "9e3d0b3e",
   "metadata": {},
   "outputs": [
    {
     "name": "stdout",
     "output_type": "stream",
     "text": [
      "True\n",
      "False\n"
     ]
    }
   ],
   "source": [
    "def is_Palindrome(s):\n",
    "    s=s.lower().replace(\" \", \"\")\n",
    "    return s[::-1]==s\n",
    "\n",
    "\n",
    "print(is_Palindrome(\" A man a plan a canal Panama \"))  # Should print True\n",
    "print(is_Palindrome(\"Hello\"))  # Should print False"
   ]
  },
  {
   "cell_type": "markdown",
   "id": "ffebac87",
   "metadata": {},
   "source": [
    "##### Example 5: Calculate the factorials of a number using recursion."
   ]
  },
  {
   "cell_type": "code",
   "execution_count": null,
   "id": "b5ce9617",
   "metadata": {},
   "outputs": [
    {
     "name": "stdout",
     "output_type": "stream",
     "text": [
      "120\n"
     ]
    }
   ],
   "source": [
    "def factorial(n):\n",
    "    if n==0:\n",
    "        return 1\n",
    "    else:\n",
    "        return n * factorial(n-1)\n",
    "\n",
    "\n",
    "print(factorial(5))  # Should print 120"
   ]
  },
  {
   "cell_type": "markdown",
   "id": "2bc08a4b",
   "metadata": {},
   "source": [
    "##### Example 6: A function to Read a file and count the frequency of each word\n",
    "\n"
   ]
  },
  {
   "cell_type": "code",
   "execution_count": 13,
   "id": "bf6d5f51",
   "metadata": {},
   "outputs": [
    {
     "name": "stdout",
     "output_type": "stream",
     "text": [
      "{'harpuneet': 1, 'singh': 1, 'is': 1, 'a': 1, 'good': 1, 'person': 1}\n"
     ]
    }
   ],
   "source": [
    "def count_word_frequency(file_path):\n",
    "    word_count={}\n",
    "    with open(file_path, 'r') as file:\n",
    "        for line in file:\n",
    "            words = line.split()\n",
    "            for word in words:\n",
    "                word = word.lower().strip('.,!?\";:')\n",
    "                if word in word_count:\n",
    "                    word_count[word] += 1\n",
    "                else:\n",
    "                    word_count[word] = 1\n",
    "    return word_count\n",
    "\n",
    "filepath = 'sample.txt'  # Replace with your file path\n",
    "word_freq = count_word_frequency(filepath)\n",
    "print(word_freq)  # Should print a dictionary with word frequencies"
   ]
  },
  {
   "cell_type": "markdown",
   "id": "0d0b1e90",
   "metadata": {},
   "source": [
    "##### Example 7: Validate Email Address\n"
   ]
  },
  {
   "cell_type": "code",
   "execution_count": 14,
   "id": "4fd9e719",
   "metadata": {},
   "outputs": [
    {
     "name": "stdout",
     "output_type": "stream",
     "text": [
      "True\n",
      "False\n"
     ]
    }
   ],
   "source": [
    "import re\n",
    "def is_valid_email(email):\n",
    "    pattern = r'^[a-zA-Z0-9._%+-]+@[a-zA-Z0-9.-]+\\.[a-zA-Z]{2,}$'\n",
    "    return re.match(pattern, email) is not None\n",
    "\n",
    "print(is_valid_email(\"test123@gmail.com\"))\n",
    "print(is_valid_email(\"invalid-email@.com\"))  # Should print False"
   ]
  },
  {
   "cell_type": "code",
   "execution_count": null,
   "id": "4b1fb15a",
   "metadata": {},
   "outputs": [],
   "source": []
  }
 ],
 "metadata": {
  "kernelspec": {
   "display_name": "Python 3",
   "language": "python",
   "name": "python3"
  },
  "language_info": {
   "codemirror_mode": {
    "name": "ipython",
    "version": 3
   },
   "file_extension": ".py",
   "mimetype": "text/x-python",
   "name": "python",
   "nbconvert_exporter": "python",
   "pygments_lexer": "ipython3",
   "version": "3.12.0"
  }
 },
 "nbformat": 4,
 "nbformat_minor": 5
}
