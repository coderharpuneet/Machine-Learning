{
 "cells": [
  {
   "cell_type": "markdown",
   "id": "d8aa8e56",
   "metadata": {},
   "source": [
    "##### Standard Library Overview\n",
    "Python's Standard Library is a vast collection of modules and packages that come bundled with Python, providing a wide range of functionalities out of the box. Here's an overview of some of the most commonly used modules and packages in the Python Standard Library.\n",
    "\n"
   ]
  },
  {
   "cell_type": "code",
   "execution_count": null,
   "id": "b5b0a0ec",
   "metadata": {},
   "outputs": [
    {
     "name": "stdout",
     "output_type": "stream",
     "text": [
      "array('i', [1, 2, 3, 4, 5])\n"
     ]
    }
   ],
   "source": [
    "import array\n",
    "arr=array.array('i', [1, 2, 3, 4, 5]) ## 'i' indicates the typecode for signed integers.\n",
    "print(arr)"
   ]
  },
  {
   "cell_type": "code",
   "execution_count": 3,
   "id": "4a72eccd",
   "metadata": {},
   "outputs": [
    {
     "name": "stdout",
     "output_type": "stream",
     "text": [
      "4.0\n",
      "3.141592653589793\n"
     ]
    }
   ],
   "source": [
    "import math\n",
    "print(math.sqrt(16))\n",
    "print(math.pi)"
   ]
  },
  {
   "cell_type": "code",
   "execution_count": 5,
   "id": "d540a6d0",
   "metadata": {},
   "outputs": [
    {
     "name": "stdout",
     "output_type": "stream",
     "text": [
      "6\n",
      "apple\n",
      "[2, 3, 4]\n"
     ]
    }
   ],
   "source": [
    "## random\n",
    "\n",
    "import random\n",
    "print(random.randint(1, 10))  # Random integer between 1 and 10\n",
    "print(random.choice(['apple', 'banana', 'cherry']))  # Random choice from a\n",
    "print(random.sample([1, 2, 3, 4, 5], 3))  # Random sample of 3 elements from the list"
   ]
  },
  {
   "cell_type": "code",
   "execution_count": 7,
   "id": "94681ad2",
   "metadata": {},
   "outputs": [
    {
     "name": "stdout",
     "output_type": "stream",
     "text": [
      "c:\\Users\\Dell\\Documents\\MachineLearning\\PythonSeries_Section2\\5-Modules\n",
      "['5.1-import.ipynb', '5.2-StandardLibrary.ipynb', 'package', 'test.py']\n"
     ]
    }
   ],
   "source": [
    "## File and Directory Access\n",
    "\n",
    "import os\n",
    "print(os.getcwd())  # Get current working directory\n",
    "print(os.listdir('.'))  # List files in the current directory\n",
    "os.mkdir('test_directory')  # Create a new directory"
   ]
  },
  {
   "cell_type": "code",
   "execution_count": null,
   "id": "3c1b64e4",
   "metadata": {},
   "outputs": [
    {
     "data": {
      "text/plain": [
       "'destination.txt'"
      ]
     },
     "execution_count": 8,
     "metadata": {},
     "output_type": "execute_result"
    }
   ],
   "source": [
    "## High level operations on files and collections of files.\n",
    "\n",
    "import shutil \n",
    "shutil.copy('source.txt', 'destination.txt')  # Copy a file "
   ]
  },
  {
   "cell_type": "code",
   "execution_count": 11,
   "id": "3ef9f7b7",
   "metadata": {},
   "outputs": [
    {
     "name": "stdout",
     "output_type": "stream",
     "text": [
      "{\"name\": \"Harpuneet Singh\", \"age\": 19, \"city\": \"Mohali\"}\n",
      "<class 'str'>\n",
      "{'name': 'Harpuneet Singh', 'age': 19, 'city': 'Mohali'}\n",
      "<class 'dict'>\n"
     ]
    }
   ],
   "source": [
    "## Data Serialization\n",
    "import json \n",
    "data={\n",
    "    \"name\": \"Harpuneet Singh\",\n",
    "    \"age\": 19,\n",
    "    \"city\": \"Mohali\"\n",
    "}\n",
    "json_str= json.dumps(data)  # Convert Python object to JSON string\n",
    "print(json_str)\n",
    "print(type(json_str))  # Check the type of json_str\n",
    "parsedd_data=json.loads(json_str)  # Convert JSON string back to Python object\n",
    "print(parsedd_data)\n",
    "print(type(parsedd_data))  # Check the type of parsedd_data"
   ]
  },
  {
   "cell_type": "code",
   "execution_count": 12,
   "id": "23741c02",
   "metadata": {},
   "outputs": [
    {
     "name": "stdout",
     "output_type": "stream",
     "text": [
      "['Name', 'Age', 'City']\n",
      "['Alice', '30', 'New York']\n"
     ]
    }
   ],
   "source": [
    "## csv\n",
    "\n",
    "import csv\n",
    "with open('example.csv',mode='w',newline='') as file:\n",
    "    writer=csv.writer(file)\n",
    "    writer.writerow(['Name', 'Age', 'City'])\n",
    "    writer.writerow(['Alice', 30, 'New York'])\n",
    "with open('example.csv',mode='r') as file:\n",
    "    reader=csv.reader(file)\n",
    "    for row in reader:\n",
    "        print(row)"
   ]
  },
  {
   "cell_type": "code",
   "execution_count": 13,
   "id": "b2ff0a9b",
   "metadata": {},
   "outputs": [
    {
     "name": "stdout",
     "output_type": "stream",
     "text": [
      "Current date and time: 2025-06-27 20:59:35.110633\n",
      "Yesterday's date and time: 2025-06-26 20:59:35.110633\n"
     ]
    }
   ],
   "source": [
    "## Date and Time\n",
    "from datetime import datetime, timedelta\n",
    "now = datetime.now()\n",
    "print(\"Current date and time:\", now)\n",
    "\n",
    "yesterday = now - timedelta(days=1) ## Subtracting one day from the current date\n",
    "print(\"Yesterday's date and time:\", yesterday)"
   ]
  },
  {
   "cell_type": "code",
   "execution_count": 14,
   "id": "7312514f",
   "metadata": {},
   "outputs": [
    {
     "name": "stdout",
     "output_type": "stream",
     "text": [
      "1751038241.283631\n",
      "Slept for 2 seconds\n",
      "1751038243.285037\n"
     ]
    }
   ],
   "source": [
    "## time\n",
    "import time\n",
    "print(time.time()) ## Get the current time in seconds since the epoch\n",
    "time.sleep(2)  ## Sleep for 2 seconds\n",
    "print(\"Slept for 2 seconds\")\n",
    "print(time.time())"
   ]
  },
  {
   "cell_type": "code",
   "execution_count": 15,
   "id": "09b803eb",
   "metadata": {},
   "outputs": [
    {
     "name": "stdout",
     "output_type": "stream",
     "text": [
      "123\n"
     ]
    }
   ],
   "source": [
    "## Rgular expression\n",
    "import re\n",
    "\n",
    "pattern= r'\\d+' ## Matches one or more digits\n",
    "text = \"There are 123 apples and 456 oranges.\" \n",
    "match=re.search(pattern, text)  # Search for the pattern in the text\n",
    "print(match.group())  # Print the matched text"
   ]
  },
  {
   "cell_type": "markdown",
   "id": "9874d0fa",
   "metadata": {},
   "source": [
    "##### Conclusion\n",
    "Python's Standard Library is extensive and provides tools for almost any task you can think of, from file handling to web services, from data serialization to concurrent execution. Familiarizing yourself with the modules and packages available in the Standard Library can significantly enhance your ability to write efficient and effective Python programs."
   ]
  }
 ],
 "metadata": {
  "kernelspec": {
   "display_name": "Python 3",
   "language": "python",
   "name": "python3"
  },
  "language_info": {
   "codemirror_mode": {
    "name": "ipython",
    "version": 3
   },
   "file_extension": ".py",
   "mimetype": "text/x-python",
   "name": "python",
   "nbconvert_exporter": "python",
   "pygments_lexer": "ipython3",
   "version": "3.12.0"
  }
 },
 "nbformat": 4,
 "nbformat_minor": 5
}
