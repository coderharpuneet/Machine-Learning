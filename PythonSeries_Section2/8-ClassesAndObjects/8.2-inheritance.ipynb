{
 "cells": [
  {
   "cell_type": "markdown",
   "id": "b1959970",
   "metadata": {},
   "source": [
    "##### Inheritance In Python\n",
    "Inheritance is a fundamental concept in Object-Oriented Programming (OOP) that allows a class to inherit attributes and methods from another class. This lesson covers single inheritance and multiple inheritance, demonstrating how to create and use them in Python."
   ]
  },
  {
   "cell_type": "code",
   "execution_count": null,
   "id": "c05771a5",
   "metadata": {},
   "outputs": [],
   "source": [
    "##Inheritance(Single)\n",
    "##Parent class\n",
    "class Car:\n",
    "    def __init__(self,windows,doors,enginetye):\n",
    "        self.windows= windows\n",
    "        self.doors= doors\n",
    "        self.enginetye= enginetye\n",
    "    def drive(self):\n",
    "        print(f\"The person will drive the {self.enginetye} car\")"
   ]
  },
  {
   "cell_type": "code",
   "execution_count": 2,
   "id": "7481ebc5",
   "metadata": {},
   "outputs": [
    {
     "name": "stdout",
     "output_type": "stream",
     "text": [
      "The person will drive the petrol car\n"
     ]
    }
   ],
   "source": [
    "car1=Car(4,4,\"petrol\")\n",
    "car1.drive()"
   ]
  },
  {
   "cell_type": "code",
   "execution_count": 5,
   "id": "6052dd98",
   "metadata": {},
   "outputs": [],
   "source": [
    "class Tesla(Car):\n",
    "    def __init__(self,windows,doors,enginetye,autopilot):\n",
    "        super().__init__(windows,doors,enginetye)\n",
    "        self.autopilot= autopilot\n",
    "    def selfdrive(self):\n",
    "        print(f\"Tesla supports autopilot feature: {self.autopilot}\")"
   ]
  },
  {
   "cell_type": "code",
   "execution_count": 6,
   "id": "fa317118",
   "metadata": {},
   "outputs": [
    {
     "name": "stdout",
     "output_type": "stream",
     "text": [
      "Tesla supports autopilot feature: True\n"
     ]
    }
   ],
   "source": [
    "tesla1=Tesla(4,4,\"electric\",True)\n",
    "tesla1.selfdrive()"
   ]
  },
  {
   "cell_type": "code",
   "execution_count": 7,
   "id": "ffc9c00a",
   "metadata": {},
   "outputs": [
    {
     "name": "stdout",
     "output_type": "stream",
     "text": [
      "Buddy says Woof! and is owned by Alice\n"
     ]
    }
   ],
   "source": [
    "##Multiple Inheritance\n",
    "## When a class inherits from more than one parent class, it is called multiple inheritance.\n",
    "\n",
    "class Animal:\n",
    "    def __init__(self, name):\n",
    "        self.name = name\n",
    "\n",
    "    def speak(self):\n",
    "        print(f\"Subclass must implement this method\")\n",
    "\n",
    "##Base class 2\n",
    "class Pet:\n",
    "    def __init__(self, owner):\n",
    "        self.owner = owner\n",
    "\n",
    "##Derived class\n",
    "class Dog(Animal,Pet):\n",
    "    def __init__(self, name, owner):\n",
    "        Animal.__init__(self, name)\n",
    "        Pet.__init__(self, owner)\n",
    "    def speak(self):\n",
    "        print(f\"{self.name} says Woof! and is owned by {self.owner}\")\n",
    "\n",
    "\n",
    "\n",
    "dog = Dog(\"Buddy\", \"Alice\")\n",
    "dog.speak()  # Output: Buddy says Woof! and is owned by Alice\n"
   ]
  },
  {
   "cell_type": "code",
   "execution_count": null,
   "id": "cfe702cd",
   "metadata": {},
   "outputs": [],
   "source": []
  }
 ],
 "metadata": {
  "kernelspec": {
   "display_name": "Python 3",
   "language": "python",
   "name": "python3"
  },
  "language_info": {
   "codemirror_mode": {
    "name": "ipython",
    "version": 3
   },
   "file_extension": ".py",
   "mimetype": "text/x-python",
   "name": "python",
   "nbconvert_exporter": "python",
   "pygments_lexer": "ipython3",
   "version": "3.12.0"
  }
 },
 "nbformat": 4,
 "nbformat_minor": 5
}
