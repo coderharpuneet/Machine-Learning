{
 "cells": [
  {
   "cell_type": "markdown",
   "id": "85acd0f6",
   "metadata": {},
   "source": [
    "##### Polymorphism\n",
    "Polymorphism is a core concept in Object-Oriented Programming (OOP) that allows objects of different classes to be treated as objects of a common superclass. It provides a way to perform a single action in different forms. Polymorphism is typically achieved through method overriding and interfaces"
   ]
  },
  {
   "cell_type": "markdown",
   "id": "7c670b12",
   "metadata": {},
   "source": [
    "#### Method Overriding\n",
    "Method overriding allows a child class to provide a specific implementation of a method that is already defined in its parent class."
   ]
  },
  {
   "cell_type": "code",
   "execution_count": 2,
   "id": "07e8bd82",
   "metadata": {},
   "outputs": [
    {
     "name": "stdout",
     "output_type": "stream",
     "text": [
      "Woof! Woof!\n",
      "Meow! Meow!\n",
      "Woof! Woof!\n"
     ]
    }
   ],
   "source": [
    "## base Class\n",
    "class Animal:\n",
    "    def sound(self):\n",
    "        print(\"Animal makes a sound\")\n",
    "\n",
    "## Derived Class 1\n",
    "class Dog(Animal):\n",
    "    def sound(self):\n",
    "        print(\"Woof! Woof!\")\n",
    "    \n",
    "## Derived Class 2\n",
    "class Cat(Animal):\n",
    "    def sound(self):\n",
    "        print(\"Meow! Meow!\")\n",
    "\n",
    "##Function that demonstrates polymorphism\n",
    "def make_sound(animal):\n",
    "    animal.sound()\n",
    "\n",
    "\n",
    "dog = Dog()\n",
    "cat = Cat()\n",
    "dog.sound()  # Output: Woof! Woof!\n",
    "cat.sound()  # Output: Meow! Meow!\n",
    "make_sound(dog)  # Output: Woof! Woof!"
   ]
  },
  {
   "cell_type": "code",
   "execution_count": 4,
   "id": "8986f092",
   "metadata": {},
   "outputs": [
    {
     "name": "stdout",
     "output_type": "stream",
     "text": [
      "Area of rectangle: 50\n",
      "Area of circle: 153.86\n"
     ]
    }
   ],
   "source": [
    "## Polymorphism with Functions and Methods\n",
    "##Base Class\n",
    "class Shape:\n",
    "    def area(self):\n",
    "        print(\"Calculating area of the shape\")\n",
    "\n",
    "## Derived Class 1\n",
    "class rectangle(Shape):\n",
    "    def __init__(self, length, width):\n",
    "        self.length = length\n",
    "        self.width = width\n",
    "    def area(self):\n",
    "        print(f\"Area of rectangle: {self.length * self.width}\")\n",
    "\n",
    "## Derived Class 2\n",
    "class Circle(Shape):\n",
    "    def __init__(self, radius):\n",
    "        self.radius = radius\n",
    "    def area(self):\n",
    "        print(f\"Area of circle: {3.14 * self.radius * self.radius}\") \n",
    "\n",
    "\n",
    "\n",
    "def calculate_area(shape):\n",
    "    shape.area()\n",
    "\n",
    "rectangle1 = rectangle(5, 10)\n",
    "\n",
    "circle1 = Circle(7)\n",
    "calculate_area(rectangle1)  # Output: Area of rectangle: 50\n",
    "calculate_area(circle1)  # Output: Area of circle: 153.86"
   ]
  },
  {
   "cell_type": "markdown",
   "id": "c38dc3fd",
   "metadata": {},
   "source": [
    "##### Polymorphism with Abstract Base Classes\n",
    "Abstract Base Classes (ABCs) are used to define common methods for a group of related objects. They can enforce that derived classes implement particular methods, promoting consistency across different implementations."
   ]
  },
  {
   "cell_type": "code",
   "execution_count": 5,
   "id": "dc671477",
   "metadata": {},
   "outputs": [
    {
     "name": "stdout",
     "output_type": "stream",
     "text": [
      "Car engine started\n",
      "Motorcycle engine started\n"
     ]
    }
   ],
   "source": [
    "from abc import ABC, abstractmethod\n",
    "\n",
    "## Define an abstract class\n",
    "class Vehicle(ABC):\n",
    "    @abstractmethod\n",
    "    def start_engine(self):\n",
    "        pass\n",
    "\n",
    "##Derived Class 1\n",
    "class Car(Vehicle):\n",
    "    def start_engine(self):\n",
    "        print(\"Car engine started\")\n",
    "\n",
    "##Derived Class 2\n",
    "class Motorcycle(Vehicle):\n",
    "    def start_engine(self):\n",
    "        print(\"Motorcycle engine started\")\n",
    "\n",
    "##Create objects of Motorcycle and Car\n",
    "car = Car()\n",
    "motorcycle = Motorcycle()\n",
    "car.start_engine()  # Output: Car engine started\n",
    "motorcycle.start_engine()  # Output: Motorcycle engine started\n"
   ]
  },
  {
   "cell_type": "code",
   "execution_count": null,
   "id": "927ade57",
   "metadata": {},
   "outputs": [],
   "source": []
  }
 ],
 "metadata": {
  "kernelspec": {
   "display_name": "Python 3",
   "language": "python",
   "name": "python3"
  },
  "language_info": {
   "codemirror_mode": {
    "name": "ipython",
    "version": 3
   },
   "file_extension": ".py",
   "mimetype": "text/x-python",
   "name": "python",
   "nbconvert_exporter": "python",
   "pygments_lexer": "ipython3",
   "version": "3.12.0"
  }
 },
 "nbformat": 4,
 "nbformat_minor": 5
}
