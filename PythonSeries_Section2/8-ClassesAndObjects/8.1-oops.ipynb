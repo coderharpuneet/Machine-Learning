{
 "cells": [
  {
   "cell_type": "markdown",
   "id": "27b1469b",
   "metadata": {},
   "source": [
    "##### Classes and Objects\n",
    "Object-Oriented Programming (OOP) is a programming paradigm that uses \"objects\" to design applications and computer programs. OOP allows for modeling real-world scenarios using classes and objects. This lesson covers the basics of creating classes and objects, including instance variables and methods."
   ]
  },
  {
   "cell_type": "code",
   "execution_count": 1,
   "id": "4263fa5a",
   "metadata": {},
   "outputs": [
    {
     "name": "stdout",
     "output_type": "stream",
     "text": [
      "<class '__main__.Car'>\n"
     ]
    }
   ],
   "source": [
    "## A class is a blueprint for creating objects. Attributes ,methods\n",
    "class Car:\n",
    "    pass\n",
    "\n",
    "audi=Car()\n",
    "bmw=Car()\n",
    "\n",
    "print(type(audi))\n"
   ]
  },
  {
   "cell_type": "code",
   "execution_count": 3,
   "id": "aa64b295",
   "metadata": {},
   "outputs": [
    {
     "name": "stdout",
     "output_type": "stream",
     "text": [
      "<__main__.Car object at 0x00000240118EEA80>\n",
      "<__main__.Car object at 0x00000240118EEA50>\n"
     ]
    }
   ],
   "source": [
    "print(audi)\n",
    "print(bmw)"
   ]
  },
  {
   "cell_type": "code",
   "execution_count": 6,
   "id": "619d9187",
   "metadata": {},
   "outputs": [
    {
     "name": "stdout",
     "output_type": "stream",
     "text": [
      "Tommy\n",
      "Rocky\n"
     ]
    }
   ],
   "source": [
    "## Instance Variables and Methods\n",
    "class Dog:\n",
    "    ##Constructor\n",
    "    def __init__(self,name,age):\n",
    "            self.name=name\n",
    "            self.age=age\n",
    "##create objects\n",
    "dog1=Dog(\"Tommy\",5)\n",
    "dog2=Dog(\"Rocky\",3)\n",
    "print(dog1.name)\n",
    "print(dog2.name)"
   ]
  },
  {
   "cell_type": "code",
   "execution_count": 7,
   "id": "16c2cfd5",
   "metadata": {},
   "outputs": [
    {
     "name": "stdout",
     "output_type": "stream",
     "text": [
      "Tommy Woof! Woof!\n"
     ]
    }
   ],
   "source": [
    "## Define a class with instance methods\n",
    "class Dog:\n",
    "    def __init__(self,name,age):\n",
    "        self.name=name\n",
    "        self.age=age\n",
    "    def bark(self):\n",
    "        print(f\"{self.name} Woof! Woof!\")\n",
    "\n",
    "dog1=Dog(\"Tommy\",5)\n",
    "dog1.bark()"
   ]
  },
  {
   "cell_type": "code",
   "execution_count": 10,
   "id": "af7c1e87",
   "metadata": {},
   "outputs": [
    {
     "name": "stdout",
     "output_type": "stream",
     "text": [
      "Deposited 500. New balance is 1500.\n",
      "Withdrew 200. New balance is 1300.\n",
      "Insufficient funds!\n"
     ]
    }
   ],
   "source": [
    "## Modelling a Bank Account\n",
    "\n",
    "## Define a class for Bank Account\n",
    "class BankAccount:\n",
    "    def __init__(self,owner,balance=0):\n",
    "        self.owner=owner\n",
    "        self.balance=balance\n",
    "    def deposit(self,amount):\n",
    "        self.balance+= amount\n",
    "        print(f\"Deposited {amount}. New balance is {self.balance}.\")\n",
    "    def withdraw(self,amount):\n",
    "        if amount > self.balance:\n",
    "            print(\"Insufficient funds!\")\n",
    "        else:\n",
    "            self.balance -= amount\n",
    "            print(f\"Withdrew {amount}. New balance is {self.balance}.\")\n",
    "    def get_balance(self):\n",
    "        return self.balance\n",
    "\n",
    "##create an account\n",
    "account1 = BankAccount(\"Alice\", 1000)\n",
    "account1.deposit(500)\n",
    "account1.withdraw(200)\n",
    "account1.withdraw(1500)  # Should show insufficient funds"
   ]
  },
  {
   "cell_type": "markdown",
   "id": "ab8460d8",
   "metadata": {},
   "source": [
    "##### Conclusion\n",
    "Object-Oriented Programming (OOP) allows you to model real-world scenarios using classes and objects. In this lesson, you learned how to create classes and objects, define instance variables and methods, and use them to perform various operations. Understanding these concepts is fundamental to writing effective and maintainable Python code."
   ]
  }
 ],
 "metadata": {
  "kernelspec": {
   "display_name": "Python 3",
   "language": "python",
   "name": "python3"
  },
  "language_info": {
   "codemirror_mode": {
    "name": "ipython",
    "version": 3
   },
   "file_extension": ".py",
   "mimetype": "text/x-python",
   "name": "python",
   "nbconvert_exporter": "python",
   "pygments_lexer": "ipython3",
   "version": "3.12.0"
  }
 },
 "nbformat": 4,
 "nbformat_minor": 5
}
