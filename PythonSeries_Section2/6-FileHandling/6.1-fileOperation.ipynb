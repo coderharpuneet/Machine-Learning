{
 "cells": [
  {
   "cell_type": "markdown",
   "id": "8d134509",
   "metadata": {},
   "source": [
    "##### File Operation- Read And Write Files\n",
    "File handling is a crucial part of any programming language. Python provides built-in functions and methods to read from and write to files, both text and binary. This lesson will cover the basics of file handling, including reading and writing text files and binary files."
   ]
  },
  {
   "cell_type": "code",
   "execution_count": 2,
   "id": "af54bc08",
   "metadata": {},
   "outputs": [
    {
     "name": "stdout",
     "output_type": "stream",
     "text": [
      "Hello\n",
      " My name is Harpuneet Singh\n",
      " \n"
     ]
    }
   ],
   "source": [
    "## Read a whole file\n",
    "with open('example.txt','r') as file:\n",
    "    content=file.read()\n",
    "print(content)"
   ]
  },
  {
   "cell_type": "code",
   "execution_count": 4,
   "id": "552ea6a0",
   "metadata": {},
   "outputs": [
    {
     "name": "stdout",
     "output_type": "stream",
     "text": [
      "Hello\n",
      "My name is Harpuneet Singh\n",
      "\n"
     ]
    }
   ],
   "source": [
    "## read a file line by line\n",
    "with open ('example.txt','r') as file:\n",
    "    for line in file:\n",
    "        print(line.strip()) ## strip() removes leading and trailing whitespace characters, including the newline character"
   ]
  },
  {
   "cell_type": "code",
   "execution_count": 11,
   "id": "911c353c",
   "metadata": {},
   "outputs": [],
   "source": [
    "## Writing a file\n",
    "\n",
    "with open('example.txt','w') as file:\n",
    "    file.write(\"Hello World!\\n\")\n",
    "    file.write(\"This is a new line.\\n\")"
   ]
  },
  {
   "cell_type": "code",
   "execution_count": 12,
   "id": "20662d2f",
   "metadata": {},
   "outputs": [],
   "source": [
    "## Wirte a file wihout overwriting\n",
    "with open('example.txt','a') as file:\n",
    "    file.write(\"This line is appended.\\n\")\n",
    "    file.write(\"Another appended line.\\n\")\n",
    "    "
   ]
  },
  {
   "cell_type": "code",
   "execution_count": 7,
   "id": "a2713e30",
   "metadata": {},
   "outputs": [],
   "source": [
    "## Writing list of lines to a file\n",
    "lines=[\"Line 1\\n\", \"Line 2\\n\", \"Line 3\\n\"]\n",
    "with open('example.txt','a') as file:\n",
    "    file.writelines(lines)  # Write multiple lines at once"
   ]
  },
  {
   "cell_type": "code",
   "execution_count": 10,
   "id": "4bc2ed6c",
   "metadata": {},
   "outputs": [],
   "source": [
    "## Binary files\n",
    "\n",
    "# Writing binary to a bianry file\n",
    "data=b'\\x00\\x01\\x02\\x03\\x04'\n",
    "with open('example.bin','wb') as file:\n",
    "    file.write(data)\n"
   ]
  },
  {
   "cell_type": "code",
   "execution_count": 14,
   "id": "5ef1c6e1",
   "metadata": {},
   "outputs": [
    {
     "name": "stdout",
     "output_type": "stream",
     "text": [
      "b'\\x00\\x01\\x02\\x03\\x04'\n"
     ]
    }
   ],
   "source": [
    "## reading a binary file\n",
    "with open('example.bin','rb') as file:\n",
    "    binary_content = file.read()\n",
    "    print(binary_content)  # Output: b'\\x00\\x01\\x02\\x03\\x04'"
   ]
  },
  {
   "cell_type": "code",
   "execution_count": 15,
   "id": "dc50d95a",
   "metadata": {},
   "outputs": [],
   "source": [
    "## Read the content from a source file and write it to a destination file\n",
    "## Copying a text file\n",
    "\n",
    "with open('example.txt','r') as file:\n",
    "    content=file.read()\n",
    "with open('destination.txt','w') as file:\n",
    "    file.write(content)"
   ]
  },
  {
   "cell_type": "code",
   "execution_count": 21,
   "id": "8d656d06",
   "metadata": {},
   "outputs": [
    {
     "name": "stdout",
     "output_type": "stream",
     "text": [
      "Lines: 4, Words: 14, Characters: 79\n"
     ]
    }
   ],
   "source": [
    "## Read a text file and count the number of lines, words and characters\n",
    "def count_text_file(file_path):\n",
    "    with open(file_path,'r') as file:\n",
    "        lines=file.readlines()\n",
    "        line_count=len(lines)\n",
    "        word_count=sum(len(line.split()) for line in lines)\n",
    "        char_count=sum(len(line) for line in lines)\n",
    "    return line_count, word_count, char_count\n",
    "file_path='example.txt'\n",
    "line_count, word_count, char_count = count_text_file(file_path)\n",
    "print(f\"Lines: {line_count}, Words: {word_count}, Characters: {char_count}\")"
   ]
  },
  {
   "cell_type": "markdown",
   "id": "dd71ac69",
   "metadata": {},
   "source": [
    "The w+ mode in Python is used to open a file for both reading and writing. If the file does not exist, it will be created. If the file exists, its content is truncated (i.e., the file is overwritten)."
   ]
  },
  {
   "cell_type": "code",
   "execution_count": 24,
   "id": "162f7892",
   "metadata": {},
   "outputs": [
    {
     "name": "stdout",
     "output_type": "stream",
     "text": [
      "Hello World\n",
      "This is a test file.\n",
      "\n"
     ]
    }
   ],
   "source": [
    "## Writing and then reading a file\n",
    "with open('example.txt', 'w+') as file:\n",
    "    file.write(\"Hello World\\n\")\n",
    "    file.write(\"This is a test file.\\n\")\n",
    "\n",
    "    ##Move the file cursor to beginning of the file\n",
    "    file.seek(0)\n",
    "\n",
    "    ##read the content of the file\n",
    "    content = file.read()\n",
    "    print(content)  # Output: Hello World\\nThis is a test file.\\n"
   ]
  },
  {
   "cell_type": "code",
   "execution_count": null,
   "id": "9cd57b46",
   "metadata": {},
   "outputs": [],
   "source": []
  }
 ],
 "metadata": {
  "kernelspec": {
   "display_name": "Python 3",
   "language": "python",
   "name": "python3"
  },
  "language_info": {
   "codemirror_mode": {
    "name": "ipython",
    "version": 3
   },
   "file_extension": ".py",
   "mimetype": "text/x-python",
   "name": "python",
   "nbconvert_exporter": "python",
   "pygments_lexer": "ipython3",
   "version": "3.12.0"
  }
 },
 "nbformat": 4,
 "nbformat_minor": 5
}
