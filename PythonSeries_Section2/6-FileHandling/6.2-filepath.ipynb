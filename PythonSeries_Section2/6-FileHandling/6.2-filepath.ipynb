{
 "cells": [
  {
   "cell_type": "code",
   "execution_count": 2,
   "id": "997c64c8",
   "metadata": {},
   "outputs": [
    {
     "name": "stdout",
     "output_type": "stream",
     "text": [
      "Created directory: package\n"
     ]
    }
   ],
   "source": [
    "## create a new directory\n",
    "import os\n",
    "new_directory=\"package\"\n",
    "os.mkdir(new_directory)\n",
    "print(f\"Created directory: {new_directory}\")"
   ]
  },
  {
   "cell_type": "code",
   "execution_count": 4,
   "id": "549caf57",
   "metadata": {},
   "outputs": [
    {
     "name": "stdout",
     "output_type": "stream",
     "text": [
      "Items in current directory:\n",
      "6.1-fileOperation.ipynb\n",
      "6.2-filepath.ipynb\n",
      "destination.txt\n",
      "example.bin\n",
      "example.txt\n",
      "package\n"
     ]
    }
   ],
   "source": [
    "## Listing Files and Directories\n",
    "items=os.listdir('.')\n",
    "print(\"Items in current directory:\")\n",
    "for item in items:\n",
    "    print(item)"
   ]
  },
  {
   "cell_type": "code",
   "execution_count": null,
   "id": "1a223f89",
   "metadata": {},
   "outputs": [
    {
     "name": "stdout",
     "output_type": "stream",
     "text": [
      "Full path: folder\\file.txt\n"
     ]
    }
   ],
   "source": [
    "## Joining Paths\n",
    "dir_name=\"folder\"\n",
    "file_name=\"file.txt\"\n",
    "full_path=os.path.join(dir_name, file_name)\n",
    "print(f\"Full path: {full_path}\")"
   ]
  },
  {
   "cell_type": "code",
   "execution_count": 6,
   "id": "c0002783",
   "metadata": {},
   "outputs": [
    {
     "name": "stdout",
     "output_type": "stream",
     "text": [
      "The path 'example.txt' exists.\n"
     ]
    }
   ],
   "source": [
    "path='example.txt'\n",
    "if os.path.exists(path):\n",
    "    print(f\"The path '{path}' exists.\")\n",
    "else:\n",
    "    print(f\"The path '{path}' does not exist.\")"
   ]
  },
  {
   "cell_type": "code",
   "execution_count": 7,
   "id": "44ddba7e",
   "metadata": {},
   "outputs": [
    {
     "name": "stdout",
     "output_type": "stream",
     "text": [
      "The path 'example.txt' is a file.\n"
     ]
    }
   ],
   "source": [
    "## Checking if a path is a file or a directory\n",
    "path='example.txt'\n",
    "if os.path.isfile(path):\n",
    "    print(f\"The path '{path}' is a file.\")\n",
    "elif os.path.isdir(path):\n",
    "    print(f\"The path '{path}' is a directory.\")\n",
    "else:\n",
    "    print(f\"The path '{path}' is neither a file nor a directory.\")"
   ]
  },
  {
   "cell_type": "code",
   "execution_count": 8,
   "id": "03b02244",
   "metadata": {},
   "outputs": [
    {
     "name": "stdout",
     "output_type": "stream",
     "text": [
      "Absolute path of 'example.txt': c:\\Users\\Dell\\Documents\\MachineLearning\\PythonSeries_Section2\\6-FileHandling\\example.txt\n"
     ]
    }
   ],
   "source": [
    "## Getting the absolute path\n",
    "relative_path='example.txt'\n",
    "absolute_path=os.path.abspath(relative_path)\n",
    "print(f\"Absolute path of '{relative_path}': {absolute_path}\")"
   ]
  }
 ],
 "metadata": {
  "kernelspec": {
   "display_name": "Python 3",
   "language": "python",
   "name": "python3"
  },
  "language_info": {
   "codemirror_mode": {
    "name": "ipython",
    "version": 3
   },
   "file_extension": ".py",
   "mimetype": "text/x-python",
   "name": "python",
   "nbconvert_exporter": "python",
   "pygments_lexer": "ipython3",
   "version": "3.12.0"
  }
 },
 "nbformat": 4,
 "nbformat_minor": 5
}
