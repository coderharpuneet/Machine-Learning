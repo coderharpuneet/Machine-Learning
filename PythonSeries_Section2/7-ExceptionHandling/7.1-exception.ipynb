{
 "cells": [
  {
   "cell_type": "markdown",
   "id": "e954cd76",
   "metadata": {},
   "source": [
    "##### Understanding Exceptions\n",
    "Exception handling in Python allows you to handle errors gracefully and take corrective actions without stopping the execution of the program. This lesson will cover the basics of exceptions, including how to use try, except, else, and finally blocks.\n",
    "\n",
    "##### What Are Exceptions?\n",
    "Exceptions are events that disrupt the normal flow of a program. They occur when an error is encountered during program execution. Common exceptions include:\n",
    "\n",
    "ZeroDivisionError: Dividing by zero.\n",
    "FileNotFoundError: File not found.\n",
    "ValueError: Invalid value.\n",
    "TypeError: Invalid type."
   ]
  },
  {
   "cell_type": "code",
   "execution_count": 1,
   "id": "592ee477",
   "metadata": {},
   "outputs": [
    {
     "name": "stdout",
     "output_type": "stream",
     "text": [
      "An error occurred. Variable 'b' is not defined.\n"
     ]
    }
   ],
   "source": [
    "## Exception try, except block\n",
    "try:\n",
    "    a=b\n",
    "except:\n",
    "    print(\"An error occurred. Variable 'b' is not defined.\")"
   ]
  },
  {
   "cell_type": "code",
   "execution_count": 2,
   "id": "b4a5f04a",
   "metadata": {},
   "outputs": [
    {
     "name": "stdout",
     "output_type": "stream",
     "text": [
      "NameError: name 'b' is not defined\n"
     ]
    }
   ],
   "source": [
    "try:\n",
    "    a=b\n",
    "except NameError as e:\n",
    "    print(f\"NameError: {e}\")"
   ]
  },
  {
   "cell_type": "code",
   "execution_count": 3,
   "id": "7a115e7e",
   "metadata": {},
   "outputs": [
    {
     "name": "stdout",
     "output_type": "stream",
     "text": [
      "ZeroDivisionError: division by zero\n"
     ]
    }
   ],
   "source": [
    "try:\n",
    "    a=10/0\n",
    "except ZeroDivisionError as e:\n",
    "    print(f\"ZeroDivisionError: {e}\")"
   ]
  },
  {
   "cell_type": "code",
   "execution_count": 4,
   "id": "b7cd35d4",
   "metadata": {},
   "outputs": [
    {
     "name": "stdout",
     "output_type": "stream",
     "text": [
      "An unexpected error occurred: name 'b' is not defined\n"
     ]
    }
   ],
   "source": [
    "try:\n",
    "    a=10/5\n",
    "    a=b\n",
    "except ZeroDivisionError as e:\n",
    "    print(f\"ZeroDivisionError: {e}\")\n",
    "except Exception as e: ## This exception must be written after all the specific exceptions\n",
    "    print(f\"An unexpected error occurred: {e}\")\n",
    "    print('Main exception got caught here')"
   ]
  },
  {
   "cell_type": "code",
   "execution_count": 8,
   "id": "071495dd",
   "metadata": {},
   "outputs": [],
   "source": [
    "try: \n",
    "    num=int(input(\"Enter a number: \"))\n",
    "    result=10/num\n",
    "except ValueError as e:\n",
    "    print(f\"ValueError: {e}\")\n",
    "except ZeroDivisionError as e:\n",
    "    print(f\"ZeroDivisionError: {e}\")\n",
    "except Exception as e:\n",
    "    print(f\"An unexpected error occurred: {e}\")\n"
   ]
  },
  {
   "cell_type": "code",
   "execution_count": 9,
   "id": "f26a1ebf",
   "metadata": {},
   "outputs": [
    {
     "name": "stdout",
     "output_type": "stream",
     "text": [
      "Result: 2.0\n",
      "No exceptions occurred, proceeding with the result.\n"
     ]
    }
   ],
   "source": [
    "## try, except and else block\n",
    "try:\n",
    "    num=int(input(\"Enter a number: \"))\n",
    "    result=10/num\n",
    "except ValueError as e:\n",
    "    print(f\"ValueError: {e}\")\n",
    "except ZeroDivisionError as e:\n",
    "    print(f\"ZeroDivisionError: {e}\")\n",
    "except Exception as e:\n",
    "    print(f\"An unexpected error occurred: {e}\")\n",
    "else:\n",
    "    print(f\"Result: {result}\")\n",
    "    print(\"No exceptions occurred, proceeding with the result.\")"
   ]
  },
  {
   "cell_type": "code",
   "execution_count": 11,
   "id": "5014c44f",
   "metadata": {},
   "outputs": [
    {
     "name": "stdout",
     "output_type": "stream",
     "text": [
      "Result: 0.8333333333333334\n",
      "No exceptions occurred, proceeding with the result.\n",
      "Execution completed, whether an exception occurred or not.\n"
     ]
    }
   ],
   "source": [
    "## try, except, else, finally blocks\n",
    "try:\n",
    "    num=int(input(\"Enter a number: \"))\n",
    "    result=10/num\n",
    "except ValueError as e:\n",
    "    print(f\"ValueError: {e}\")\n",
    "except ZeroDivisionError as e:\n",
    "    print(f\"ZeroDivisionError: {e}\")\n",
    "except Exception as e:\n",
    "    print(f\"An unexpected error occurred: {e}\")\n",
    "else:\n",
    "    print(f\"Result: {result}\")\n",
    "    print(\"No exceptions occurred, proceeding with the result.\")\n",
    "finally:\n",
    "    print(\"Execution completed, whether an exception occurred or not.\")"
   ]
  },
  {
   "cell_type": "code",
   "execution_count": 25,
   "id": "66f1fc72",
   "metadata": {},
   "outputs": [
    {
     "name": "stdout",
     "output_type": "stream",
     "text": [
      "'tuple' object is not callable\n"
     ]
    },
    {
     "ename": "AttributeError",
     "evalue": "'tuple' object has no attribute 'close'",
     "output_type": "error",
     "traceback": [
      "\u001b[31m---------------------------------------------------------------------------\u001b[39m",
      "\u001b[31mAttributeError\u001b[39m                            Traceback (most recent call last)",
      "\u001b[36mCell\u001b[39m\u001b[36m \u001b[39m\u001b[32mIn[25]\u001b[39m\u001b[32m, line 16\u001b[39m\n\u001b[32m     14\u001b[39m \u001b[38;5;28;01mfinally\u001b[39;00m:\n\u001b[32m     15\u001b[39m     \u001b[38;5;28;01mif\u001b[39;00m \u001b[33m'\u001b[39m\u001b[33mfile\u001b[39m\u001b[33m'\u001b[39m \u001b[38;5;129;01min\u001b[39;00m \u001b[38;5;28mlocals\u001b[39m() \u001b[38;5;129;01mor\u001b[39;00m \u001b[38;5;129;01mnot\u001b[39;00m file.closed():\n\u001b[32m---> \u001b[39m\u001b[32m16\u001b[39m         \u001b[43mfile\u001b[49m\u001b[43m.\u001b[49m\u001b[43mclose\u001b[49m()\n\u001b[32m     17\u001b[39m         \u001b[38;5;28mprint\u001b[39m(\u001b[33m'\u001b[39m\u001b[33mfile close\u001b[39m\u001b[33m'\u001b[39m)\n",
      "\u001b[31mAttributeError\u001b[39m: 'tuple' object has no attribute 'close'"
     ]
    }
   ],
   "source": [
    "## File handling and exception handling\n",
    "import os\n",
    "try:\n",
    "    file=open('example1.txt','r')\n",
    "    content=file.read()\n",
    "    a=b\n",
    "    print(content)\n",
    "\n",
    "except FileNotFoundError:\n",
    "    print(\"The file does not exists\")\n",
    "except Exception as ex:\n",
    "    print(ex)\n",
    "\n",
    "finally:\n",
    "    if 'file' in locals() or not file.closed():\n",
    "        file.close()\n",
    "        print('file close')"
   ]
  },
  {
   "cell_type": "code",
   "execution_count": null,
   "id": "0ca5d4d8",
   "metadata": {},
   "outputs": [],
   "source": []
  }
 ],
 "metadata": {
  "kernelspec": {
   "display_name": "Python 3",
   "language": "python",
   "name": "python3"
  },
  "language_info": {
   "codemirror_mode": {
    "name": "ipython",
    "version": 3
   },
   "file_extension": ".py",
   "mimetype": "text/x-python",
   "name": "python",
   "nbconvert_exporter": "python",
   "pygments_lexer": "ipython3",
   "version": "3.12.0"
  }
 },
 "nbformat": 4,
 "nbformat_minor": 5
}
