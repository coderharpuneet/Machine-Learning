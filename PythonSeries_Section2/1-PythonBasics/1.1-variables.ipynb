{
 "cells": [
  {
   "cell_type": "markdown",
   "id": "f58decaa",
   "metadata": {},
   "source": [
    "Variables\n",
    "\n",
    "Variables are fundamental elements in programming used to store data that can be referenced and manipulated in a program. \n",
    "In Python, variables are created when you assign a value to them, and they do not need explicit declaration to reserve memory space. \n",
    "The declaration happens automatically when you assign a value to a variable."
   ]
  },
  {
   "cell_type": "code",
   "execution_count": null,
   "id": "24f11dea",
   "metadata": {},
   "outputs": [],
   "source": [
    "a=100"
   ]
  },
  {
   "cell_type": "code",
   "execution_count": 1,
   "id": "7ceddf58",
   "metadata": {},
   "outputs": [
    {
     "name": "stdout",
     "output_type": "stream",
     "text": [
      "Age: 19\n",
      "Name: Sidak\n",
      "Height: 5.1\n",
      "Is Student: True\n"
     ]
    }
   ],
   "source": [
    "##Declaring and Assigning variables.\n",
    "\n",
    "age=19\n",
    "name=\"Sidak\"\n",
    "height=5.10\n",
    "is_student=True\n",
    "\n",
    "##Printing the variables.\n",
    "print(\"Age:\", age)\n",
    "print(\"Name:\", name)    \n",
    "print(\"Height:\", height)\n",
    "print(\"Is Student:\", is_student)\n"
   ]
  },
  {
   "cell_type": "code",
   "execution_count": 2,
   "id": "c8fd63fa",
   "metadata": {},
   "outputs": [],
   "source": [
    "##Naming Convention\n",
    "##Variable name should be descriptive\n",
    "##They must always start with a letter or an underscore(_) and it can contain letters numbers and underscores\n",
    "##Variable names are caser sensitive\n",
    "\n",
    "##Valid variable names\n",
    "first_name=\"harpuneet\"\n",
    "last_name=\"singh\"\n"
   ]
  },
  {
   "cell_type": "code",
   "execution_count": 3,
   "id": "be02390f",
   "metadata": {},
   "outputs": [],
   "source": [
    "##Invalid Varible Names\n",
    "## 2age=30\n",
    "## first-name=\"sidak\"\n",
    "## @age=19"
   ]
  },
  {
   "cell_type": "code",
   "execution_count": 4,
   "id": "410a3090",
   "metadata": {},
   "outputs": [],
   "source": [
    "##case sensitivity\n",
    "name=\"Sidak\"\n",
    "Name=\"Harpuneet\""
   ]
  },
  {
   "cell_type": "code",
   "execution_count": 5,
   "id": "975280f0",
   "metadata": {},
   "outputs": [
    {
     "name": "stdout",
     "output_type": "stream",
     "text": [
      "<class 'int'>\n",
      "<class 'float'>\n",
      "<class 'str'>\n",
      "<class 'bool'>\n"
     ]
    }
   ],
   "source": [
    "##Understanding variable types\n",
    "##Python is dynamically typed i.e. type of variable is determined at the run-time.\n",
    "age=25 #int\n",
    "height=5.10 #float\n",
    "name=\"Sidak\" #str\n",
    "is_student=True #bool\n",
    "\n",
    "print(type(age))       # <class 'int'>\n",
    "print(type(height))   # <class 'float'>\n",
    "print(type(name))     # <class 'str'>\n",
    "print(type(is_student)) # <class 'bool'>"
   ]
  },
  {
   "cell_type": "code",
   "execution_count": 6,
   "id": "9054496e",
   "metadata": {},
   "outputs": [
    {
     "data": {
      "text/plain": [
       "float"
      ]
     },
     "execution_count": 6,
     "metadata": {},
     "output_type": "execute_result"
    }
   ],
   "source": [
    "## Type Checking and Concversion\n",
    "type(height)"
   ]
  },
  {
   "cell_type": "code",
   "execution_count": 7,
   "id": "91407ff0",
   "metadata": {},
   "outputs": [
    {
     "name": "stdout",
     "output_type": "stream",
     "text": [
      "<class 'int'>\n",
      "25\n",
      "<class 'str'>\n"
     ]
    }
   ],
   "source": [
    "age=25\n",
    "print(type(age))  # <class 'int'>\n",
    "\n",
    "## Type Conversion\n",
    "age_str=str(age)\n",
    "print(age_str)  # '25'\n",
    "print(type(age_str))  # <class 'str'>"
   ]
  },
  {
   "cell_type": "code",
   "execution_count": 8,
   "id": "2486396d",
   "metadata": {},
   "outputs": [
    {
     "name": "stdout",
     "output_type": "stream",
     "text": [
      "25\n"
     ]
    }
   ],
   "source": [
    "age='25'\n",
    "age_int=int(age)\n",
    "print(age_int)  # 25"
   ]
  },
  {
   "cell_type": "code",
   "execution_count": 10,
   "id": "a041186a",
   "metadata": {},
   "outputs": [],
   "source": [
    "name=\"Sidak\"\n",
    "# int(name) Not possible, will raise an error"
   ]
  },
  {
   "cell_type": "code",
   "execution_count": 11,
   "id": "45a2b7ec",
   "metadata": {},
   "outputs": [
    {
     "data": {
      "text/plain": [
       "float"
      ]
     },
     "execution_count": 11,
     "metadata": {},
     "output_type": "execute_result"
    }
   ],
   "source": [
    "height=5.10\n",
    "type(height)"
   ]
  },
  {
   "cell_type": "code",
   "execution_count": 13,
   "id": "ed75dabc",
   "metadata": {},
   "outputs": [
    {
     "data": {
      "text/plain": [
       "5.0"
      ]
     },
     "execution_count": 13,
     "metadata": {},
     "output_type": "execute_result"
    }
   ],
   "source": [
    "float(int(height))"
   ]
  },
  {
   "cell_type": "code",
   "execution_count": 14,
   "id": "acfdde68",
   "metadata": {},
   "outputs": [
    {
     "name": "stdout",
     "output_type": "stream",
     "text": [
      "10 <class 'int'>\n",
      "Hello <class 'str'>\n",
      "3.14 <class 'float'>\n"
     ]
    }
   ],
   "source": [
    "## Dynamic Typing\n",
    "##Python allows the type of a variable to change as te program executes\n",
    "var=10\n",
    "print(var, type(var)) \n",
    "\n",
    "var=\"Hello\"\n",
    "print(var, type(var))  # Now var is a string\n",
    "\n",
    "var=3.14\n",
    "print(var, type(var))  # Now var is a float"
   ]
  },
  {
   "cell_type": "code",
   "execution_count": 15,
   "id": "05a94d28",
   "metadata": {},
   "outputs": [
    {
     "name": "stdout",
     "output_type": "stream",
     "text": [
      "Your age is: 19\n"
     ]
    }
   ],
   "source": [
    "##input\n",
    "\n",
    "age=input(\"Enter te age: \")\n",
    "print(\"Your age is:\", age)  # Input is always a string"
   ]
  },
  {
   "cell_type": "code",
   "execution_count": 16,
   "id": "00c1ee7b",
   "metadata": {},
   "outputs": [
    {
     "name": "stdout",
     "output_type": "stream",
     "text": [
      "Sum: 5.0\n",
      "Difference: -1.0\n",
      "Product: 6.0\n",
      "Quotient: 0.6666666666666666\n"
     ]
    }
   ],
   "source": [
    "## Simple calculator\n",
    "num1=float(input(\"Enter the first number: \"))\n",
    "num2=float(input(\"Enter the second number: \"))\n",
    "sum=num1+num2\n",
    "diff=num1-num2\n",
    "product=num1*num2\n",
    "quotient=num1/num2\n",
    "print(\"Sum:\", sum)\n",
    "print(\"Difference:\", diff)\n",
    "print(\"Product:\", product)\n",
    "print(\"Quotient:\", quotient)"
   ]
  },
  {
   "cell_type": "code",
   "execution_count": null,
   "id": "6624c5ec",
   "metadata": {},
   "outputs": [],
   "source": []
  }
 ],
 "metadata": {
  "kernelspec": {
   "display_name": "Python 3",
   "language": "python",
   "name": "python3"
  },
  "language_info": {
   "codemirror_mode": {
    "name": "ipython",
    "version": 3
   },
   "file_extension": ".py",
   "mimetype": "text/x-python",
   "name": "python",
   "nbconvert_exporter": "python",
   "pygments_lexer": "ipython3",
   "version": "3.12.0"
  }
 },
 "nbformat": 4,
 "nbformat_minor": 5
}
