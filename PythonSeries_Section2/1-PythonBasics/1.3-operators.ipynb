{
 "cells": [
  {
   "cell_type": "code",
   "execution_count": 3,
   "id": "2a84d304",
   "metadata": {},
   "outputs": [
    {
     "name": "stdout",
     "output_type": "stream",
     "text": [
      "15\n",
      "5\n",
      "50\n",
      "2.0\n",
      "2\n",
      "0\n",
      "100000\n"
     ]
    }
   ],
   "source": [
    "##Arithmetic Operations\n",
    "a=10\n",
    "b=5\n",
    "add_result=a+b\n",
    "sub_result=a-b\n",
    "mul_result=a*b\n",
    "div_result=a/b\n",
    "float_div_result=a//b\n",
    "modulus_result=a%b\n",
    "exponent_result=a**b\n",
    "\n",
    "print(add_result)\n",
    "print(sub_result)\n",
    "print(mul_result)\n",
    "print(div_result)\n",
    "print(float_div_result)\n",
    "print(modulus_result)\n",
    "print(exponent_result)\n"
   ]
  },
  {
   "cell_type": "code",
   "execution_count": 5,
   "id": "16714ad1",
   "metadata": {},
   "outputs": [
    {
     "data": {
      "text/plain": [
       "True"
      ]
     },
     "execution_count": 5,
     "metadata": {},
     "output_type": "execute_result"
    }
   ],
   "source": [
    "##Comparison Operators\n",
    "## == Equal To\n",
    "a=10\n",
    "b=10\n",
    "a==b"
   ]
  },
  {
   "cell_type": "code",
   "execution_count": 6,
   "id": "e4bb7ed2",
   "metadata": {},
   "outputs": [
    {
     "data": {
      "text/plain": [
       "True"
      ]
     },
     "execution_count": 6,
     "metadata": {},
     "output_type": "execute_result"
    }
   ],
   "source": [
    "str1=\"Hello\"\n",
    "str2=\"Hello\"\n",
    "str1==str2"
   ]
  },
  {
   "cell_type": "code",
   "execution_count": 7,
   "id": "e1cb1e18",
   "metadata": {},
   "outputs": [
    {
     "data": {
      "text/plain": [
       "False"
      ]
     },
     "execution_count": 7,
     "metadata": {},
     "output_type": "execute_result"
    }
   ],
   "source": [
    "## != Not Equal To\n",
    "str1!=str2"
   ]
  },
  {
   "cell_type": "code",
   "execution_count": 8,
   "id": "8ce58de4",
   "metadata": {},
   "outputs": [
    {
     "data": {
      "text/plain": [
       "True"
      ]
     },
     "execution_count": 8,
     "metadata": {},
     "output_type": "execute_result"
    }
   ],
   "source": [
    "str3=\"World\"\n",
    "str4=\"world\"\n",
    "str1!=str3"
   ]
  },
  {
   "cell_type": "code",
   "execution_count": 9,
   "id": "6fd089ae",
   "metadata": {},
   "outputs": [
    {
     "data": {
      "text/plain": [
       "True"
      ]
     },
     "execution_count": 9,
     "metadata": {},
     "output_type": "execute_result"
    }
   ],
   "source": [
    "## Greater Than\n",
    "num1=45\n",
    "num2=30\n",
    "num1>num2"
   ]
  },
  {
   "cell_type": "code",
   "execution_count": 10,
   "id": "1fdf4034",
   "metadata": {},
   "outputs": [
    {
     "data": {
      "text/plain": [
       "False"
      ]
     },
     "execution_count": 10,
     "metadata": {},
     "output_type": "execute_result"
    }
   ],
   "source": [
    "## Lesser Than\n",
    "num1<num2"
   ]
  },
  {
   "cell_type": "code",
   "execution_count": 11,
   "id": "8cf3a17c",
   "metadata": {},
   "outputs": [
    {
     "data": {
      "text/plain": [
       "True"
      ]
     },
     "execution_count": 11,
     "metadata": {},
     "output_type": "execute_result"
    }
   ],
   "source": [
    "## Greater than equal to\n",
    "number1=45\n",
    "number2=45\n",
    "number1>=number2\n"
   ]
  },
  {
   "cell_type": "code",
   "execution_count": 12,
   "id": "04e14892",
   "metadata": {},
   "outputs": [
    {
     "data": {
      "text/plain": [
       "True"
      ]
     },
     "execution_count": 12,
     "metadata": {},
     "output_type": "execute_result"
    }
   ],
   "source": [
    "## Less than equal to \n",
    "number1=44\n",
    "number2=45\n",
    "number1<=number2"
   ]
  },
  {
   "cell_type": "code",
   "execution_count": 13,
   "id": "27717292",
   "metadata": {},
   "outputs": [
    {
     "name": "stdout",
     "output_type": "stream",
     "text": [
      "True\n"
     ]
    }
   ],
   "source": [
    "## And, Not, Or\n",
    "X=True\n",
    "Y=True\n",
    "result= X and Y\n",
    "print(result)"
   ]
  },
  {
   "cell_type": "code",
   "execution_count": 14,
   "id": "9b1641d1",
   "metadata": {},
   "outputs": [
    {
     "name": "stdout",
     "output_type": "stream",
     "text": [
      "False\n"
     ]
    }
   ],
   "source": [
    "X=True\n",
    "Y=False\n",
    "result= X and Y\n",
    "print(result)"
   ]
  },
  {
   "cell_type": "code",
   "execution_count": 15,
   "id": "f818edd5",
   "metadata": {},
   "outputs": [
    {
     "name": "stdout",
     "output_type": "stream",
     "text": [
      "True\n"
     ]
    }
   ],
   "source": [
    "## OR\n",
    "X=True\n",
    "Y=False\n",
    "result= X or Y\n",
    "print(result)"
   ]
  },
  {
   "cell_type": "code",
   "execution_count": 16,
   "id": "6857ddc4",
   "metadata": {},
   "outputs": [
    {
     "name": "stdout",
     "output_type": "stream",
     "text": [
      "False\n"
     ]
    }
   ],
   "source": [
    "## Not operator\n",
    "X=True\n",
    "print(not X)"
   ]
  }
 ],
 "metadata": {
  "kernelspec": {
   "display_name": "Python 3",
   "language": "python",
   "name": "python3"
  },
  "language_info": {
   "codemirror_mode": {
    "name": "ipython",
    "version": 3
   },
   "file_extension": ".py",
   "mimetype": "text/x-python",
   "name": "python",
   "nbconvert_exporter": "python",
   "pygments_lexer": "ipython3",
   "version": "3.12.0"
  }
 },
 "nbformat": 4,
 "nbformat_minor": 5
}
