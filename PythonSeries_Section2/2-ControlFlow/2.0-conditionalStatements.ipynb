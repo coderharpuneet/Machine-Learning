{
 "cells": [
  {
   "cell_type": "markdown",
   "id": "613c34cf",
   "metadata": {},
   "source": [
    "Conditional Statements (if, elif, else)"
   ]
  },
  {
   "cell_type": "code",
   "execution_count": 1,
   "id": "8082518c",
   "metadata": {},
   "outputs": [
    {
     "name": "stdout",
     "output_type": "stream",
     "text": [
      "You are allowed to vote in elections.\n"
     ]
    }
   ],
   "source": [
    "## if statement\n",
    "age=20\n",
    "if age>=18:\n",
    "    print(\"You are allowed to vote in elections.\")"
   ]
  },
  {
   "cell_type": "code",
   "execution_count": 3,
   "id": "7a8fb303",
   "metadata": {},
   "outputs": [
    {
     "name": "stdout",
     "output_type": "stream",
     "text": [
      "You are not allowed to vote in the elections.\n"
     ]
    }
   ],
   "source": [
    "## else \n",
    "## The else statement executes a block of code if the condition in the if staement is false;\n",
    "age=16\n",
    "if age>=18:\n",
    "    print(\"You are allowed to vote in the elections.\")\n",
    "else:\n",
    "    print(\"You are not allowed to vote in the elections.\")"
   ]
  },
  {
   "cell_type": "code",
   "execution_count": 4,
   "id": "e4c07fdb",
   "metadata": {},
   "outputs": [
    {
     "name": "stdout",
     "output_type": "stream",
     "text": [
      "You are an adult.\n"
     ]
    }
   ],
   "source": [
    "## elif statement\n",
    "##The elif statement allows you to check multiple conditions. It stads for else if.\n",
    "age=20\n",
    "if age<13:\n",
    "    print(\"You are a child.\")\n",
    "elif age<18:\n",
    "    print(\"You are a teenager.\")\n",
    "else:\n",
    "    print(\"You are an adult.\")"
   ]
  },
  {
   "cell_type": "code",
   "execution_count": 6,
   "id": "b42fe39b",
   "metadata": {},
   "outputs": [
    {
     "name": "stdout",
     "output_type": "stream",
     "text": [
      "The number is positive.\n",
      "The number is odd.\n"
     ]
    }
   ],
   "source": [
    "##Nested Conditional Statements\n",
    "## You can place one or more if, elif or else statements inside another if, elif or else statements to create nested conditional statements.\n",
    "## Number even,odd,negative\n",
    "\n",
    "num=int(input(\"Enter the number:\"))\n",
    "if num>0:\n",
    "    print(\"The number is positive.\")\n",
    "    if num%2==0:\n",
    "        print(\"The number is even.\")\n",
    "    else:\n",
    "        print(\"The number is odd.\")\n",
    "else:\n",
    "    print(\"The number is zero or negative.\")"
   ]
  },
  {
   "cell_type": "code",
   "execution_count": 8,
   "id": "05772cd3",
   "metadata": {},
   "outputs": [
    {
     "name": "stdout",
     "output_type": "stream",
     "text": [
      "2024 is a leap year.\n"
     ]
    }
   ],
   "source": [
    "## Practical examples\n",
    "\n",
    "## Determine if the year is a leap year using nested condition statement.\n",
    "year = int(input(\"Enter the year:\"))\n",
    "if year%4==0:\n",
    "    if year%100==0:\n",
    "        if year%400==0:\n",
    "            print(year, \"is a leap year.\")\n",
    "        else:\n",
    "            print(year, \"is not a leap year.\")\n",
    "    else:\n",
    "        print(year, \"is a leap year.\")\n",
    "else:\n",
    "    print(year, \"is not a leap year.\")"
   ]
  },
  {
   "cell_type": "code",
   "execution_count": null,
   "id": "596d5593",
   "metadata": {},
   "outputs": [],
   "source": [
    "## Assignment\n",
    "## Simple calculator program\n",
    "a=float(input(\"Enter first number: \"))\n",
    "b=float(input(\"Enter second number: \"))\n",
    "op=input()"
   ]
  }
 ],
 "metadata": {
  "kernelspec": {
   "display_name": "Python 3",
   "language": "python",
   "name": "python3"
  },
  "language_info": {
   "codemirror_mode": {
    "name": "ipython",
    "version": 3
   },
   "file_extension": ".py",
   "mimetype": "text/x-python",
   "name": "python",
   "nbconvert_exporter": "python",
   "pygments_lexer": "ipython3",
   "version": "3.12.0"
  }
 },
 "nbformat": 4,
 "nbformat_minor": 5
}
