{
 "cells": [
  {
   "cell_type": "markdown",
   "id": "d88d1753",
   "metadata": {},
   "source": [
    "### Introduction to Dictionaries\n",
    "Dictionaries are unordered collections of items. They store data in key-value pairs. Keys must be unique and immutable (e.g., strings, numbers, or tuples), while values can be of any type."
   ]
  },
  {
   "cell_type": "code",
   "execution_count": 1,
   "id": "3766bc3f",
   "metadata": {},
   "outputs": [
    {
     "name": "stdout",
     "output_type": "stream",
     "text": [
      "<class 'dict'>\n"
     ]
    }
   ],
   "source": [
    "## Creating Dictionaries\n",
    "empty_dict={}\n",
    "print(type(empty_dict))"
   ]
  },
  {
   "cell_type": "code",
   "execution_count": 2,
   "id": "bb1bb0fd",
   "metadata": {},
   "outputs": [
    {
     "name": "stdout",
     "output_type": "stream",
     "text": [
      "{'name': 'Harpuneet', 'age': 19}\n"
     ]
    }
   ],
   "source": [
    "student={\"name\":\"Harpuneet\",\"age\":19}\n",
    "print(student)"
   ]
  },
  {
   "cell_type": "code",
   "execution_count": 3,
   "id": "f34b1c45",
   "metadata": {},
   "outputs": [
    {
     "name": "stdout",
     "output_type": "stream",
     "text": [
      "{'name': 24, 'age': 19}\n"
     ]
    }
   ],
   "source": [
    "student={\"name\":\"Harpuneet\",\"age\":19,\"name\":24}\n",
    "print(student)"
   ]
  },
  {
   "cell_type": "code",
   "execution_count": 9,
   "id": "21385215",
   "metadata": {},
   "outputs": [
    {
     "name": "stdout",
     "output_type": "stream",
     "text": [
      "Harpuneet\n",
      "Harpuneet\n",
      "None\n",
      "Not Found\n"
     ]
    }
   ],
   "source": [
    "##accessing dictionary elements\n",
    "student={\"name\":\"Harpuneet\",\"age\":19,\"grade\":\"A\"}\n",
    "print(student[\"name\"])\n",
    "\n",
    "\n",
    "##accessing using get() method\n",
    "print(student.get(\"name\"))\n",
    "print(student.get(\"last_name\"))\n",
    "print(student.get(\"last_name\",\"Not Found\"))  # Default value if key not found"
   ]
  },
  {
   "cell_type": "code",
   "execution_count": null,
   "id": "05510fc6",
   "metadata": {},
   "outputs": [
    {
     "name": "stdout",
     "output_type": "stream",
     "text": [
      "{'name': 'Harpuneet', 'age': 20, 'grade': 'A'}\n",
      "{'name': 'Harpuneet', 'age': 20, 'grade': 'A', 'student': 'India'}\n"
     ]
    }
   ],
   "source": [
    "##Modifying dictionary Elements\n",
    "## Dictionary are mutable, so you can add, update or delete elements.\n",
    "student[\"age\"]=20 ## update value\n",
    "print(student)\n",
    "student[\"student\"]=\"India\"## added new key and value\n",
    "print(student)"
   ]
  },
  {
   "cell_type": "code",
   "execution_count": 11,
   "id": "53aa6017",
   "metadata": {},
   "outputs": [
    {
     "name": "stdout",
     "output_type": "stream",
     "text": [
      "{'name': 'Harpuneet', 'age': 20, 'student': 'India'}\n"
     ]
    }
   ],
   "source": [
    "del student['grade']  ## delete key and value\n",
    "print(student)"
   ]
  },
  {
   "cell_type": "code",
   "execution_count": 14,
   "id": "cc603d34",
   "metadata": {},
   "outputs": [
    {
     "name": "stdout",
     "output_type": "stream",
     "text": [
      "dict_keys(['name', 'age', 'student'])\n",
      "dict_values(['Harpuneet', 20, 'India'])\n",
      "dict_items([('name', 'Harpuneet'), ('age', 20), ('student', 'India')])\n"
     ]
    }
   ],
   "source": [
    "## Dictionary Methods\n",
    "\n",
    "keys=student.keys(); ## get all the keys\n",
    "print(keys)\n",
    "values=student.values(); ## get all the values\n",
    "print(values)\n",
    "\n",
    "items=student.items(); ## get all the key-value pairs\n",
    "print(items)"
   ]
  },
  {
   "cell_type": "code",
   "execution_count": 15,
   "id": "64c15255",
   "metadata": {},
   "outputs": [
    {
     "name": "stdout",
     "output_type": "stream",
     "text": [
      "{'name': 'Harpuneet', 'age': 20, 'student': 'India'}\n",
      "{'name': 'Harpuneet', 'age': 20, 'student': 'India'}\n"
     ]
    }
   ],
   "source": [
    "## Shallow Copy\n",
    "student_copy=student\n",
    "\n",
    "print(student_copy)\n",
    "print(student)"
   ]
  },
  {
   "cell_type": "code",
   "execution_count": 16,
   "id": "97b3678e",
   "metadata": {},
   "outputs": [
    {
     "name": "stdout",
     "output_type": "stream",
     "text": [
      "{'name': 'Harpuneet Singh', 'age': 20, 'student': 'India'}\n",
      "{'name': 'Harpuneet Singh', 'age': 20, 'student': 'India'}\n"
     ]
    }
   ],
   "source": [
    "student[\"name\"]=\"Harpuneet Singh\"  ## modifying original dictionary\n",
    "print(student_copy)  ## student_copy will also reflect this change\n",
    "print(student)"
   ]
  },
  {
   "cell_type": "code",
   "execution_count": 18,
   "id": "c3614bdf",
   "metadata": {},
   "outputs": [
    {
     "name": "stdout",
     "output_type": "stream",
     "text": [
      "{'name': 'Harpuneet Singh', 'age': 20, 'student': 'India'}\n",
      "{'name': 'Sidak', 'age': 20, 'student': 'India'}\n",
      "{'name': 'Harpuneet Singh', 'age': 20, 'student': 'India'}\n"
     ]
    }
   ],
   "source": [
    "student_copy1=student.copy()  ## creating a shallow copy\n",
    "print(student_copy1)\n",
    "student_copy1[\"name\"]=\"Sidak\"  ## modifying the copy\n",
    "print(student_copy1)  ## only the copy will reflect this change\n",
    "print(student)  ## original dictionary remains unchanged"
   ]
  },
  {
   "cell_type": "code",
   "execution_count": 19,
   "id": "e308fe35",
   "metadata": {},
   "outputs": [
    {
     "name": "stdout",
     "output_type": "stream",
     "text": [
      "name\n",
      "age\n",
      "student\n"
     ]
    }
   ],
   "source": [
    "## Iterating over Dictioaries\n",
    "## You can use loops to iterate over dictionaries, keys, values, or items\n",
    "\n",
    "## Iterating over keys\n",
    "for keys in student.keys():\n",
    "    print(keys)"
   ]
  },
  {
   "cell_type": "code",
   "execution_count": 20,
   "id": "c6859094",
   "metadata": {},
   "outputs": [
    {
     "name": "stdout",
     "output_type": "stream",
     "text": [
      "Harpuneet Singh\n",
      "20\n",
      "India\n"
     ]
    }
   ],
   "source": [
    "## Iterate over values\n",
    "for values in student.values():\n",
    "    print(values)"
   ]
  },
  {
   "cell_type": "code",
   "execution_count": 21,
   "id": "e439a2f3",
   "metadata": {},
   "outputs": [
    {
     "name": "stdout",
     "output_type": "stream",
     "text": [
      "name : Harpuneet Singh\n",
      "age : 20\n",
      "student : India\n"
     ]
    }
   ],
   "source": [
    "## Iterate over key value pairs\n",
    "for key,value in student.items():\n",
    "    print(f\"{key} : {value}\")"
   ]
  },
  {
   "cell_type": "code",
   "execution_count": 22,
   "id": "38297d58",
   "metadata": {},
   "outputs": [
    {
     "name": "stdout",
     "output_type": "stream",
     "text": [
      "{'student1': {'name': 'Harpuneet', 'age': 19, 'grade': 'A'}, 'student2': {'name': 'Karan', 'age': 20, 'grade': 'A'}, 'student3': {'name': 'Kunal', 'age': 21, 'grade': 'B'}}\n"
     ]
    }
   ],
   "source": [
    "## Nested Dictionaries\n",
    "students={\n",
    "    \"student1\":{\"name\":\"Harpuneet\",\"age\":19,\"grade\":\"A\"},\n",
    "    \"student2\":{\"name\":\"Karan\",\"age\":20,\"grade\":\"A\"},\n",
    "    \"student3\":{\"name\":\"Kunal\",\"age\":21,\"grade\":\"B\"},\n",
    "    \n",
    "}\n",
    "print(students)"
   ]
  },
  {
   "cell_type": "code",
   "execution_count": 23,
   "id": "7a6ee642",
   "metadata": {},
   "outputs": [
    {
     "name": "stdout",
     "output_type": "stream",
     "text": [
      "Harpuneet\n",
      "20\n"
     ]
    }
   ],
   "source": [
    "print(students[\"student1\"][\"name\"])  ## Accessing nested dictionary\n",
    "print(students[\"student2\"][\"age\"])"
   ]
  },
  {
   "cell_type": "code",
   "execution_count": 24,
   "id": "2c125ec2",
   "metadata": {},
   "outputs": [
    {
     "name": "stdout",
     "output_type": "stream",
     "text": [
      "ID: student1\n",
      "name: Harpuneet\n",
      "age: 19\n",
      "grade: A\n",
      "\n",
      "ID: student2\n",
      "name: Karan\n",
      "age: 20\n",
      "grade: A\n",
      "\n",
      "ID: student3\n",
      "name: Kunal\n",
      "age: 21\n",
      "grade: B\n",
      "\n"
     ]
    }
   ],
   "source": [
    "##iterating for nested dictionaries\n",
    "for student_id, student_info in students.items():\n",
    "    print(f\"ID: {student_id}\")\n",
    "    for key, value in student_info.items():\n",
    "        print(f\"{key}: {value}\")\n",
    "    print()  # Print a newline for better readability"
   ]
  },
  {
   "cell_type": "code",
   "execution_count": 26,
   "id": "a0e40c6d",
   "metadata": {},
   "outputs": [
    {
     "name": "stdout",
     "output_type": "stream",
     "text": [
      "{0: 0, 1: 1, 2: 4, 3: 9, 4: 16}\n"
     ]
    }
   ],
   "source": [
    "## Dictionary Comprehension\n",
    "squares={x:x**2 for x in range(5)}\n",
    "print(squares)\n"
   ]
  },
  {
   "cell_type": "code",
   "execution_count": 27,
   "id": "1a2a82f8",
   "metadata": {},
   "outputs": [
    {
     "name": "stdout",
     "output_type": "stream",
     "text": [
      "{0: 0, 2: 4, 4: 16, 6: 36, 8: 64}\n"
     ]
    }
   ],
   "source": [
    "## Conditional Dictionary Comprehension\n",
    "evens={x:x**2 for x in range(10) if x%2==0}\n",
    "print(evens)"
   ]
  },
  {
   "cell_type": "code",
   "execution_count": 28,
   "id": "78019a47",
   "metadata": {},
   "outputs": [
    {
     "name": "stdout",
     "output_type": "stream",
     "text": [
      "{1: 1, 2: 2, 3: 1, 4: 3, 5: 1}\n"
     ]
    }
   ],
   "source": [
    "## Practical Examples\n",
    "\n",
    "## Use a dictionary to count the frequency of elements in a list\n",
    "numbers = [1, 2, 2, 3, 4, 4, 4, 5]\n",
    "frequency={}\n",
    "for number in numbers:\n",
    "    if number in frequency:\n",
    "        frequency[number] += 1\n",
    "    else:\n",
    "        frequency[number] = 1\n",
    "print(frequency)"
   ]
  },
  {
   "cell_type": "code",
   "execution_count": 29,
   "id": "26148320",
   "metadata": {},
   "outputs": [
    {
     "name": "stdout",
     "output_type": "stream",
     "text": [
      "{'a': 1, 'b': 3, 'c': 4}\n"
     ]
    }
   ],
   "source": [
    "## merge 2 Dictionaries\n",
    "dict1={\"a\": 1, \"b\": 2}\n",
    "dict2={\"b\": 3, \"c\": 4}\n",
    "merge_dict={**dict1, **dict2}  # Merging two dictionaries\n",
    "print(merge_dict)"
   ]
  },
  {
   "cell_type": "code",
   "execution_count": null,
   "id": "aa1c7835",
   "metadata": {},
   "outputs": [],
   "source": []
  }
 ],
 "metadata": {
  "kernelspec": {
   "display_name": "Python 3",
   "language": "python",
   "name": "python3"
  },
  "language_info": {
   "codemirror_mode": {
    "name": "ipython",
    "version": 3
   },
   "file_extension": ".py",
   "mimetype": "text/x-python",
   "name": "python",
   "nbconvert_exporter": "python",
   "pygments_lexer": "ipython3",
   "version": "3.12.0"
  }
 },
 "nbformat": 4,
 "nbformat_minor": 5
}
