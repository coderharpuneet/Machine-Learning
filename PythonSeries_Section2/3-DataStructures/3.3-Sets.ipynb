{
 "cells": [
  {
   "cell_type": "markdown",
   "id": "fed99b4f",
   "metadata": {},
   "source": [
    "### Sets\n",
    "Sets are a built-in data type in Python used to store collections of unique items. They are unordered, meaning that the elements do not follow a specific order, and they do not allow duplicate elements. Sets are useful for membership tests, eliminating duplicate entries, and performing mathematical set operations like union, intersection, difference, and symmetric difference."
   ]
  },
  {
   "cell_type": "code",
   "execution_count": 1,
   "id": "3e96ffa1",
   "metadata": {},
   "outputs": [
    {
     "name": "stdout",
     "output_type": "stream",
     "text": [
      "{1, 2, 3, 4, 5}\n",
      "<class 'set'>\n"
     ]
    }
   ],
   "source": [
    "## Create a set\n",
    "my_set={1, 2, 3, 4, 5}\n",
    "print(my_set)\n",
    "print(type(my_set))"
   ]
  },
  {
   "cell_type": "code",
   "execution_count": 3,
   "id": "de83f00e",
   "metadata": {},
   "outputs": [
    {
     "name": "stdout",
     "output_type": "stream",
     "text": [
      "set()\n",
      "<class 'set'>\n"
     ]
    }
   ],
   "source": [
    "my_empty_set = set()\n",
    "print(my_empty_set)\n",
    "print(type(my_empty_set))\n"
   ]
  },
  {
   "cell_type": "code",
   "execution_count": 5,
   "id": "e47eca37",
   "metadata": {},
   "outputs": [
    {
     "name": "stdout",
     "output_type": "stream",
     "text": [
      "{1, 2, 3, 4, 5, 6}\n"
     ]
    }
   ],
   "source": [
    "my__set = set([1,2,3,4,5,6])\n",
    "print(my__set)"
   ]
  },
  {
   "cell_type": "code",
   "execution_count": 6,
   "id": "4410cb14",
   "metadata": {},
   "outputs": [
    {
     "name": "stdout",
     "output_type": "stream",
     "text": [
      "{1, 2, 3, 4, 5, 6}\n"
     ]
    }
   ],
   "source": [
    "my__set = set([1,2,3,2,5,4,5,6])\n",
    "print(my__set)"
   ]
  },
  {
   "cell_type": "code",
   "execution_count": 7,
   "id": "c2ebca7e",
   "metadata": {},
   "outputs": [
    {
     "name": "stdout",
     "output_type": "stream",
     "text": [
      "{1, 2, 3, 4, 5, 6, 7}\n"
     ]
    }
   ],
   "source": [
    "## Basic Set Opertions\n",
    "## Adding and Removing lements\n",
    "my__set.add(7)\n",
    "print(my__set)"
   ]
  },
  {
   "cell_type": "code",
   "execution_count": 8,
   "id": "f313467f",
   "metadata": {},
   "outputs": [
    {
     "name": "stdout",
     "output_type": "stream",
     "text": [
      "{1, 2, 3, 4, 5, 6}\n"
     ]
    }
   ],
   "source": [
    "##remove the elements from the set\n",
    "my__set.remove(7)\n",
    "print(my__set)"
   ]
  },
  {
   "cell_type": "code",
   "execution_count": 9,
   "id": "a6c62b4a",
   "metadata": {},
   "outputs": [
    {
     "ename": "KeyError",
     "evalue": "10",
     "output_type": "error",
     "traceback": [
      "\u001b[31m---------------------------------------------------------------------------\u001b[39m",
      "\u001b[31mKeyError\u001b[39m                                  Traceback (most recent call last)",
      "\u001b[36mCell\u001b[39m\u001b[36m \u001b[39m\u001b[32mIn[9]\u001b[39m\u001b[32m, line 1\u001b[39m\n\u001b[32m----> \u001b[39m\u001b[32m1\u001b[39m \u001b[43mmy__set\u001b[49m\u001b[43m.\u001b[49m\u001b[43mremove\u001b[49m\u001b[43m(\u001b[49m\u001b[32;43m10\u001b[39;49m\u001b[43m)\u001b[49m\n",
      "\u001b[31mKeyError\u001b[39m: 10"
     ]
    }
   ],
   "source": [
    "my__set.remove(10)"
   ]
  },
  {
   "cell_type": "code",
   "execution_count": null,
   "id": "f7661f06",
   "metadata": {},
   "outputs": [
    {
     "name": "stdout",
     "output_type": "stream",
     "text": [
      "{1, 2, 3, 4, 5}\n"
     ]
    }
   ],
   "source": [
    "my__set.discard(6) ##does not raise an error if the element is not found\n",
    "print(my__set)"
   ]
  },
  {
   "cell_type": "code",
   "execution_count": 12,
   "id": "9b29ed0f",
   "metadata": {},
   "outputs": [
    {
     "name": "stdout",
     "output_type": "stream",
     "text": [
      "Removed element: 2\n",
      "{3, 4, 5}\n"
     ]
    }
   ],
   "source": [
    "## Pop method\n",
    "removed_element = my__set.pop()  # removes and returns an arbitrary element\n",
    "print(f\"Removed element: {removed_element}\")\n",
    "print(my__set)"
   ]
  },
  {
   "cell_type": "code",
   "execution_count": 13,
   "id": "5dd7eb0f",
   "metadata": {},
   "outputs": [
    {
     "name": "stdout",
     "output_type": "stream",
     "text": [
      "set()\n"
     ]
    }
   ],
   "source": [
    "## clear all the elements\n",
    "my__set.clear()\n",
    "print(my__set)"
   ]
  },
  {
   "cell_type": "code",
   "execution_count": 15,
   "id": "d6963573",
   "metadata": {},
   "outputs": [
    {
     "name": "stdout",
     "output_type": "stream",
     "text": [
      "True\n",
      "False\n"
     ]
    }
   ],
   "source": [
    "## Set membership test\n",
    "my__set = {1, 2, 3, 4, 5}\n",
    "print(3 in my_set)\n",
    "print(10 in my_set)"
   ]
  },
  {
   "cell_type": "code",
   "execution_count": 1,
   "id": "cb4e3d8e",
   "metadata": {},
   "outputs": [
    {
     "name": "stdout",
     "output_type": "stream",
     "text": [
      "Union: {1, 2, 3, 4, 5, 6, 7, 8, 9}\n",
      "Intersection: {4}\n",
      "After intersection update: {4}\n"
     ]
    }
   ],
   "source": [
    "## Mathematical operations\n",
    "set1={1,2,3,4}\n",
    "set2={4,5,6,7,8,9}\n",
    "\n",
    "##Union\n",
    "union_set=set1.union(set2)\n",
    "print(f\"Union: {union_set}\")\n",
    "\n",
    "## Intersection\n",
    "intersection_set=set1.intersection(set2)\n",
    "print(f\"Intersection: {intersection_set}\")\n",
    "\n",
    "\n",
    "set1.intersection_update(set2)  # modifies set1 to keep only elements found in both sets\n",
    "print(f\"After intersection update: {set1}\")"
   ]
  },
  {
   "cell_type": "code",
   "execution_count": 3,
   "id": "a6331e1f",
   "metadata": {},
   "outputs": [
    {
     "name": "stdout",
     "output_type": "stream",
     "text": [
      "Difference: {1, 2, 3}\n",
      "After difference update: {1, 2, 3}\n"
     ]
    }
   ],
   "source": [
    "set1={1,2,3,4,5,6}\n",
    "set2={4,5,6,7,8,9}\n",
    "\n",
    "## Difference\n",
    "difference_set=set1.difference(set2)\n",
    "print(f\"Difference: {difference_set}\")\n",
    "\n",
    "set1.difference_update(set2)  # modifies set1 to remove elements found in set2\n",
    "print(f\"After difference update: {set1}\")"
   ]
  },
  {
   "cell_type": "code",
   "execution_count": 4,
   "id": "6b885540",
   "metadata": {},
   "outputs": [
    {
     "data": {
      "text/plain": [
       "{1, 2, 3, 4, 5, 6, 7, 8, 9}"
      ]
     },
     "execution_count": 4,
     "metadata": {},
     "output_type": "execute_result"
    }
   ],
   "source": [
    "## Symmetric Difference\n",
    "set1.symmetric_difference(set2)"
   ]
  },
  {
   "cell_type": "code",
   "execution_count": 6,
   "id": "b2203b5b",
   "metadata": {},
   "outputs": [
    {
     "name": "stdout",
     "output_type": "stream",
     "text": [
      "False\n",
      "False\n"
     ]
    }
   ],
   "source": [
    "## Sets Methods\n",
    "set1={1,2,3}\n",
    "set2={3,4,5}\n",
    "\n",
    "## is subset\n",
    "print(set1.issubset(set2))  # False, set1 is not a subset of set2\n",
    "\n",
    "##is superset\n",
    "print(set1.issuperset(set2))  # False, set1 is not a superset of set2"
   ]
  },
  {
   "cell_type": "code",
   "execution_count": 8,
   "id": "fb5cdb93",
   "metadata": {},
   "outputs": [
    {
     "data": {
      "text/plain": [
       "{1, 2, 3, 4, 5}"
      ]
     },
     "execution_count": 8,
     "metadata": {},
     "output_type": "execute_result"
    }
   ],
   "source": [
    "lst=[1,2,2,3,4,4,5]\n",
    "set(lst)"
   ]
  },
  {
   "cell_type": "code",
   "execution_count": 10,
   "id": "28fd3cca",
   "metadata": {},
   "outputs": [
    {
     "name": "stdout",
     "output_type": "stream",
     "text": [
      "Unique words: {'And', 'heavens', 'earth', 'empty,', 'In', 'the', 'light.', 'created', 'over', 'there', 'Now', 'hovering', 'was', 'surface', 'God', 'darkness', 'waters.', \"light,'\", \"'Let\", 'Spirit', 'beginning', 'formless', 'earth.', 'and', 'deep,', 'said,', 'be', 'of'}\n",
      "28\n"
     ]
    }
   ],
   "source": [
    "## Counting Unique words in text\n",
    "\n",
    "text=\"In the beginning God created the heavens and the earth. Now the earth was formless and empty, darkness was over the surface of the deep, and the Spirit of God was hovering over the waters. And God said, 'Let there be light,' and there was light.\"\n",
    "words = text.split()\n",
    "\n",
    "## convert list of words to set to get unique words\n",
    "unique_words = set(words)\n",
    "print(f\"Unique words: {unique_words}\")\n",
    "print(len(unique_words))  # count of unique words"
   ]
  },
  {
   "cell_type": "code",
   "execution_count": null,
   "id": "0e4516a9",
   "metadata": {},
   "outputs": [],
   "source": []
  }
 ],
 "metadata": {
  "kernelspec": {
   "display_name": "Python 3",
   "language": "python",
   "name": "python3"
  },
  "language_info": {
   "codemirror_mode": {
    "name": "ipython",
    "version": 3
   },
   "file_extension": ".py",
   "mimetype": "text/x-python",
   "name": "python",
   "nbconvert_exporter": "python",
   "pygments_lexer": "ipython3",
   "version": "3.12.0"
  }
 },
 "nbformat": 4,
 "nbformat_minor": 5
}
